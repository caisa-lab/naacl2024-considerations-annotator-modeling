{
 "cells": [
  {
   "cell_type": "code",
   "execution_count": null,
   "id": "2f75dc2e-19fe-4b7e-bb61-97b1e739bfff",
   "metadata": {},
   "outputs": [
    {
     "name": "stderr",
     "output_type": "stream",
     "text": [
      "2023-01-18 11:13:31.257100: I tensorflow/core/platform/cpu_feature_guard.cc:193] This TensorFlow binary is optimized with oneAPI Deep Neural Network Library (oneDNN) to use the following CPU instructions in performance-critical operations:  AVX2 FMA\n",
      "To enable them in other operations, rebuild TensorFlow with the appropriate compiler flags.\n",
      "2023-01-18 11:13:31.403303: W tensorflow/stream_executor/platform/default/dso_loader.cc:64] Could not load dynamic library 'libcudart.so.11.0'; dlerror: libcudart.so.11.0: cannot open shared object file: No such file or directory\n",
      "2023-01-18 11:13:31.403335: I tensorflow/stream_executor/cuda/cudart_stub.cc:29] Ignore above cudart dlerror if you do not have a GPU set up on your machine.\n",
      "2023-01-18 11:13:31.433507: E tensorflow/stream_executor/cuda/cuda_blas.cc:2981] Unable to register cuBLAS factory: Attempting to register factory for plugin cuBLAS when one has already been registered\n",
      "2023-01-18 11:13:31.925087: W tensorflow/stream_executor/platform/default/dso_loader.cc:64] Could not load dynamic library 'libnvinfer.so.7'; dlerror: libnvinfer.so.7: cannot open shared object file: No such file or directory\n",
      "2023-01-18 11:13:31.925154: W tensorflow/stream_executor/platform/default/dso_loader.cc:64] Could not load dynamic library 'libnvinfer_plugin.so.7'; dlerror: libnvinfer_plugin.so.7: cannot open shared object file: No such file or directory\n",
      "2023-01-18 11:13:31.925159: W tensorflow/compiler/tf2tensorrt/utils/py_utils.cc:38] TF-TRT Warning: Cannot dlopen some TensorRT libraries. If you would like to use Nvidia GPU with TensorRT, please make sure the missing libraries mentioned above are installed properly.\n"
     ]
    }
   ],
   "source": [
    "import os\n",
    "import re\n",
    "\n",
    "import numpy as np\n",
    "import pandas as pd\n",
    "from tqdm import tqdm\n",
    "import transformers\n",
    "import matplotlib.pyplot as plt\n",
    "from datetime import datetime\n",
    "import pickle\n",
    "import logging\n",
    "\n",
    "import torch\n",
    "\n",
    "from utils.constants import *\n",
    "from utils.datasets import MultiTaskDataset\n",
    "from utils.train_utils import MultiTaskLossWrapper, k_fold_cross_validation, calc_annotator_class_weights"
   ]
  },
  {
   "cell_type": "code",
   "execution_count": null,
   "id": "a0122d0b-60aa-44ba-b912-bd5519274da5",
   "metadata": {},
   "outputs": [],
   "source": [
    "tokenizer = transformers.BertTokenizer.from_pretrained(\"bert-base-cased\")"
   ]
  },
  {
   "cell_type": "code",
   "execution_count": null,
   "id": "884d9c93-e3f0-4144-9260-de2d8869378c",
   "metadata": {},
   "outputs": [],
   "source": [
    "num_annotators = 18\n",
    "batch_size = 16\n",
    "num_epochs  = 10\n",
    "num_splits = 5\n",
    "use_CB = False\n",
    "print_interval = 200/batch_size\n",
    "learning_rate = 5e-5\n",
    "only_one_fold = True\n",
    "\n",
    "dt_string = datetime.now().strftime(\"%d-%m-%Y-%H-%M\")\n",
    "\n",
    "path_to_data = '../data/'\n",
    "\n",
    "np.random.seed(SEED)\n",
    "torch.manual_seed(SEED)\n",
    "torch.cuda.manual_seed(SEED)\n",
    "torch.cuda.manual_seed_all(SEED)\n",
    "\n",
    "\n",
    "with open(path_to_data+'all_annotators.csv', 'r') as f:\n",
    "    dataframe = pd.read_csv(f)\n",
    "\n",
    "tokenizer = transformers.BertTokenizer.from_pretrained(\"bert-base-uncased\")\n",
    "dataset= MultiTaskDataset(dataframe, num_annotators, tokenizer, max_length=100)\n",
    "\n",
    "weights = calc_annotator_class_weights(dataframe, num_annotators)\n",
    "loss_fn = MultiTaskLossWrapper(annotator_weights=weights, use_CB=use_CB).to(DEVICE)\n"
   ]
  },
  {
   "cell_type": "code",
   "execution_count": 6,
   "id": "67b40718-ebde-43b8-8b48-b2ecce3ffd15",
   "metadata": {},
   "outputs": [],
   "source": [
    "ghc_old = pd.read_csv('google_multi_model/data/GHC/hate_multi_old.csv')\n",
    "ghc_new = pd.read_csv('google_multi_model/data/GHC/hate_multi.csv')"
   ]
  },
  {
   "cell_type": "code",
   "execution_count": 5,
   "id": "f3b049db-b84b-493b-bc13-51dd6b870ed3",
   "metadata": {},
   "outputs": [
    {
     "data": {
      "text/plain": [
       "{0: array([0.9374848 , 1.07144843]),\n",
       " 1: array([ 0.51673152, 15.44186047]),\n",
       " 2: array([0.53094778, 8.578125  ]),\n",
       " 3: array([0.57289815, 3.92944251]),\n",
       " 4: array([0.52826633, 9.34444444]),\n",
       " 5: array([0.59955541, 3.01116427]),\n",
       " 6: array([0.59287383, 3.1918239 ]),\n",
       " 7: array([0.58023336, 3.61591104]),\n",
       " 8: array([0.59938339, 3.01551095]),\n",
       " 9: array([0.55962145, 4.69312169]),\n",
       " 10: array([ 0.51793858, 14.43644068]),\n",
       " 11: array([0.55143854, 5.36016949]),\n",
       " 12: array([0.54195426, 6.45887097]),\n",
       " 13: array([0.53155369, 8.4230038 ]),\n",
       " 14: array([0.85628743, 1.20168067]),\n",
       " 15: array([0.59655172, 3.08928571]),\n",
       " 16: array([ 0.52621359, 10.03703704]),\n",
       " 17: array([0.5447507 , 6.08650519])}"
      ]
     },
     "execution_count": 5,
     "metadata": {},
     "output_type": "execute_result"
    }
   ],
   "source": [
    "weights"
   ]
  },
  {
   "cell_type": "code",
   "execution_count": null,
   "id": "a37b5257-1c3a-4cb2-ac16-ddfd4e599135",
   "metadata": {},
   "outputs": [],
   "source": []
  }
 ],
 "metadata": {
  "kernelspec": {
   "display_name": "Python 3 (ipykernel)",
   "language": "python",
   "name": "python3"
  },
  "language_info": {
   "codemirror_mode": {
    "name": "ipython",
    "version": 3
   },
   "file_extension": ".py",
   "mimetype": "text/x-python",
   "name": "python",
   "nbconvert_exporter": "python",
   "pygments_lexer": "ipython3",
   "version": "3.10.9"
  }
 },
 "nbformat": 4,
 "nbformat_minor": 5
}
